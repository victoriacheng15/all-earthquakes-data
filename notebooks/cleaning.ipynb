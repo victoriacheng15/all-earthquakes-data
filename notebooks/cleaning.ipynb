{
 "cells": [
  {
   "cell_type": "markdown",
   "metadata": {},
   "source": [
    "# Cleaning Earthquakes Raw Data"
   ]
  },
  {
   "cell_type": "code",
   "execution_count": 1,
   "metadata": {},
   "outputs": [],
   "source": [
    "import os\n",
    "import pandas as pd\n",
    "from sqlalchemy import create_engine\n",
    "\n",
    "POSTGRES_USER = os.environ.get(\"POSTGRES_USER\")\n",
    "POSTGRES_PASSWORD = os.environ.get(\"POSTGRES_PASSWORD\")\n",
    "POSTGRES_DB = os.environ.get(\"POSTGRES_DB\")\n",
    "POSTGRES_HOST = os.environ.get(\"POSTGRES_HOST\")\n",
    "POSTGRES_PORT = os.environ.get(\"POSTGRES_PORT\")\n",
    "\n",
    "conn = f\"postgresql://{POSTGRES_USER}:{POSTGRES_PASSWORD}@{POSTGRES_HOST}:{POSTGRES_PORT}/{POSTGRES_DB}\"\n",
    "engine = create_engine(conn)"
   ]
  },
  {
   "cell_type": "code",
   "execution_count": 2,
   "metadata": {},
   "outputs": [],
   "source": [
    "query = \"select * from raw_data;\"\n",
    "\n",
    "df = pd.read_sql_query(query, conn)\n"
   ]
  },
  {
   "cell_type": "code",
   "execution_count": 3,
   "metadata": {},
   "outputs": [],
   "source": [
    "df.drop(columns=[\"code\",\"event_id\",\"url\", \"details\"], axis=1, inplace=True)\n"
   ]
  },
  {
   "cell_type": "code",
   "execution_count": 4,
   "metadata": {},
   "outputs": [],
   "source": [
    "df.set_index(\"id\", inplace=True)"
   ]
  },
  {
   "cell_type": "code",
   "execution_count": 5,
   "metadata": {},
   "outputs": [
    {
     "data": {
      "text/html": [
       "<div>\n",
       "<style scoped>\n",
       "    .dataframe tbody tr th:only-of-type {\n",
       "        vertical-align: middle;\n",
       "    }\n",
       "\n",
       "    .dataframe tbody tr th {\n",
       "        vertical-align: top;\n",
       "    }\n",
       "\n",
       "    .dataframe thead th {\n",
       "        text-align: right;\n",
       "    }\n",
       "</style>\n",
       "<table border=\"1\" class=\"dataframe\">\n",
       "  <thead>\n",
       "    <tr style=\"text-align: right;\">\n",
       "      <th></th>\n",
       "      <th>place</th>\n",
       "      <th>city</th>\n",
       "      <th>country</th>\n",
       "      <th>magnitude</th>\n",
       "      <th>latitude</th>\n",
       "      <th>longitude</th>\n",
       "      <th>depth</th>\n",
       "      <th>utc_time</th>\n",
       "    </tr>\n",
       "    <tr>\n",
       "      <th>id</th>\n",
       "      <th></th>\n",
       "      <th></th>\n",
       "      <th></th>\n",
       "      <th></th>\n",
       "      <th></th>\n",
       "      <th></th>\n",
       "      <th></th>\n",
       "      <th></th>\n",
       "    </tr>\n",
       "  </thead>\n",
       "  <tbody>\n",
       "    <tr>\n",
       "      <th>1</th>\n",
       "      <td>14 km NNE of Virginia City, Nevada</td>\n",
       "      <td>Virginia City, Nevada</td>\n",
       "      <td>USA</td>\n",
       "      <td>1.0</td>\n",
       "      <td>39.421900</td>\n",
       "      <td>-119.557600</td>\n",
       "      <td>10.80</td>\n",
       "      <td>2024-01-27 11:27:58</td>\n",
       "    </tr>\n",
       "    <tr>\n",
       "      <th>2</th>\n",
       "      <td>45 km NW of Toyah, Texas</td>\n",
       "      <td>Toyah, Texas</td>\n",
       "      <td>USA</td>\n",
       "      <td>1.9</td>\n",
       "      <td>31.619000</td>\n",
       "      <td>-104.117000</td>\n",
       "      <td>6.08</td>\n",
       "      <td>2024-01-27 11:39:20</td>\n",
       "    </tr>\n",
       "    <tr>\n",
       "      <th>3</th>\n",
       "      <td>54 km NNE of Kobuk, Alaska</td>\n",
       "      <td>Kobuk, Alaska</td>\n",
       "      <td>USA</td>\n",
       "      <td>1.5</td>\n",
       "      <td>67.322500</td>\n",
       "      <td>-156.238600</td>\n",
       "      <td>4.40</td>\n",
       "      <td>2024-01-27 11:44:12</td>\n",
       "    </tr>\n",
       "    <tr>\n",
       "      <th>4</th>\n",
       "      <td>279 km WNW of Houma, Tonga</td>\n",
       "      <td>Houma</td>\n",
       "      <td>Tonga</td>\n",
       "      <td>4.2</td>\n",
       "      <td>-20.158800</td>\n",
       "      <td>-177.761800</td>\n",
       "      <td>486.33</td>\n",
       "      <td>2024-01-27 11:50:11</td>\n",
       "    </tr>\n",
       "    <tr>\n",
       "      <th>5</th>\n",
       "      <td>4 km SSW of Salcha, Alaska</td>\n",
       "      <td>Salcha, Alaska</td>\n",
       "      <td>USA</td>\n",
       "      <td>2.4</td>\n",
       "      <td>64.482800</td>\n",
       "      <td>-146.941300</td>\n",
       "      <td>8.50</td>\n",
       "      <td>2024-01-27 11:50:33</td>\n",
       "    </tr>\n",
       "    <tr>\n",
       "      <th>...</th>\n",
       "      <td>...</td>\n",
       "      <td>...</td>\n",
       "      <td>...</td>\n",
       "      <td>...</td>\n",
       "      <td>...</td>\n",
       "      <td>...</td>\n",
       "      <td>...</td>\n",
       "      <td>...</td>\n",
       "    </tr>\n",
       "    <tr>\n",
       "      <th>198135</th>\n",
       "      <td>8 km E of Alum Rock, California</td>\n",
       "      <td>Alum Rock, California</td>\n",
       "      <td>USA</td>\n",
       "      <td>1.0</td>\n",
       "      <td>37.369500</td>\n",
       "      <td>-121.737667</td>\n",
       "      <td>4.50</td>\n",
       "      <td>2024-07-25 21:22:16</td>\n",
       "    </tr>\n",
       "    <tr>\n",
       "      <th>198136</th>\n",
       "      <td>12 km W of Chilliwack, Canada</td>\n",
       "      <td>Chilliwack</td>\n",
       "      <td>Canada</td>\n",
       "      <td>1.4</td>\n",
       "      <td>49.147500</td>\n",
       "      <td>-122.117500</td>\n",
       "      <td>-0.69</td>\n",
       "      <td>2024-07-25 19:00:02</td>\n",
       "    </tr>\n",
       "    <tr>\n",
       "      <th>198137</th>\n",
       "      <td>10 km  of Pittsburg, California</td>\n",
       "      <td>Pittsburg, California</td>\n",
       "      <td>USA</td>\n",
       "      <td>1.8</td>\n",
       "      <td>38.116500</td>\n",
       "      <td>-121.915833</td>\n",
       "      <td>26.10</td>\n",
       "      <td>2024-07-25 11:02:24</td>\n",
       "    </tr>\n",
       "    <tr>\n",
       "      <th>198138</th>\n",
       "      <td>10 km SE of Sunol, California</td>\n",
       "      <td>Sunol, California</td>\n",
       "      <td>USA</td>\n",
       "      <td>1.1</td>\n",
       "      <td>37.567500</td>\n",
       "      <td>-121.784333</td>\n",
       "      <td>6.22</td>\n",
       "      <td>2024-07-25 06:57:13</td>\n",
       "    </tr>\n",
       "    <tr>\n",
       "      <th>198139</th>\n",
       "      <td>7 km SE of Fairview, California</td>\n",
       "      <td>Fairview, California</td>\n",
       "      <td>USA</td>\n",
       "      <td>1.2</td>\n",
       "      <td>37.649333</td>\n",
       "      <td>-121.979333</td>\n",
       "      <td>10.27</td>\n",
       "      <td>2024-07-23 22:16:39</td>\n",
       "    </tr>\n",
       "  </tbody>\n",
       "</table>\n",
       "<p>198139 rows × 8 columns</p>\n",
       "</div>"
      ],
      "text/plain": [
       "                                     place                   city country  \\\n",
       "id                                                                          \n",
       "1       14 km NNE of Virginia City, Nevada  Virginia City, Nevada     USA   \n",
       "2                 45 km NW of Toyah, Texas           Toyah, Texas     USA   \n",
       "3               54 km NNE of Kobuk, Alaska          Kobuk, Alaska     USA   \n",
       "4               279 km WNW of Houma, Tonga                  Houma   Tonga   \n",
       "5               4 km SSW of Salcha, Alaska         Salcha, Alaska     USA   \n",
       "...                                    ...                    ...     ...   \n",
       "198135     8 km E of Alum Rock, California  Alum Rock, California     USA   \n",
       "198136       12 km W of Chilliwack, Canada             Chilliwack  Canada   \n",
       "198137     10 km  of Pittsburg, California  Pittsburg, California     USA   \n",
       "198138       10 km SE of Sunol, California      Sunol, California     USA   \n",
       "198139     7 km SE of Fairview, California   Fairview, California     USA   \n",
       "\n",
       "        magnitude   latitude   longitude   depth            utc_time  \n",
       "id                                                                    \n",
       "1             1.0  39.421900 -119.557600   10.80 2024-01-27 11:27:58  \n",
       "2             1.9  31.619000 -104.117000    6.08 2024-01-27 11:39:20  \n",
       "3             1.5  67.322500 -156.238600    4.40 2024-01-27 11:44:12  \n",
       "4             4.2 -20.158800 -177.761800  486.33 2024-01-27 11:50:11  \n",
       "5             2.4  64.482800 -146.941300    8.50 2024-01-27 11:50:33  \n",
       "...           ...        ...         ...     ...                 ...  \n",
       "198135        1.0  37.369500 -121.737667    4.50 2024-07-25 21:22:16  \n",
       "198136        1.4  49.147500 -122.117500   -0.69 2024-07-25 19:00:02  \n",
       "198137        1.8  38.116500 -121.915833   26.10 2024-07-25 11:02:24  \n",
       "198138        1.1  37.567500 -121.784333    6.22 2024-07-25 06:57:13  \n",
       "198139        1.2  37.649333 -121.979333   10.27 2024-07-23 22:16:39  \n",
       "\n",
       "[198139 rows x 8 columns]"
      ]
     },
     "execution_count": 5,
     "metadata": {},
     "output_type": "execute_result"
    }
   ],
   "source": [
    "df"
   ]
  },
  {
   "cell_type": "markdown",
   "metadata": {},
   "source": [
    "## Remove region text from country"
   ]
  },
  {
   "cell_type": "code",
   "execution_count": 6,
   "metadata": {},
   "outputs": [
    {
     "data": {
      "text/plain": [
       "0"
      ]
     },
     "execution_count": 6,
     "metadata": {},
     "output_type": "execute_result"
    }
   ],
   "source": [
    "df[\"country\"].str.contains(\"region\")\n",
    "\n",
    "df[\"country\"] = df[\"country\"].str.replace(\"region\", \"\").str.strip()\n",
    "\n",
    "df[\"country\"].str.contains(\"region\").sum()\n"
   ]
  },
  {
   "cell_type": "code",
   "execution_count": 7,
   "metadata": {},
   "outputs": [],
   "source": [
    "df[\"country\"].str.contains(\"of\").sum()\n",
    "\n",
    "pattern = r'north|south|east|west'\n",
    "\n",
    "mask = df[\"country\"].str.contains(pattern)\n",
    "mask &= df[\"country\"].str.contains(\"Islands\")\n",
    "\n",
    "df.loc[mask, \"country\"] = df.loc[mask, \"country\"].str.split().str[-2:].str.join(\" \")\n"
   ]
  },
  {
   "cell_type": "code",
   "execution_count": 8,
   "metadata": {},
   "outputs": [],
   "source": [
    "mask = df[\"place\"].str.contains(\"Fiji\") & df[\"country\"].isnull()\n",
    "df.loc[mask, \"country\"] = \"Fiji\""
   ]
  },
  {
   "cell_type": "code",
   "execution_count": 9,
   "metadata": {},
   "outputs": [
    {
     "data": {
      "text/plain": [
       "632"
      ]
     },
     "execution_count": 9,
     "metadata": {},
     "output_type": "execute_result"
    }
   ],
   "source": [
    "mask = df[\"place\"].str.contains(\"Fiji\") & df[\"country\"].str.contains(\"Islands\")\n",
    "\n",
    "df.loc[mask, \"country\"] = \"Fiji\"\n",
    "\n",
    "mask.sum()"
   ]
  },
  {
   "cell_type": "code",
   "execution_count": 10,
   "metadata": {},
   "outputs": [
    {
     "data": {
      "text/plain": [
       "51"
      ]
     },
     "execution_count": 10,
     "metadata": {},
     "output_type": "execute_result"
    }
   ],
   "source": [
    "mask = df[\"country\"].str.contains(\"Tonga\") & df[\"country\"].str.contains(\"of\")\n",
    "\n",
    "df.loc[mask, \"country\"] = \"Tonga\"\n",
    "\n",
    "mask.sum()"
   ]
  },
  {
   "cell_type": "code",
   "execution_count": 11,
   "metadata": {},
   "outputs": [
    {
     "data": {
      "text/plain": [
       "3896"
      ]
     },
     "execution_count": 11,
     "metadata": {},
     "output_type": "execute_result"
    }
   ],
   "source": [
    "mask = df[\"country\"].str.contains(\"Alaska\") | df[\"country\"].str.contains(\"Texas\") | df[\"country\"].str.contains(\"California\")\n",
    "\n",
    "df.loc[mask, \"country\"] = \"USA\"\n",
    "\n",
    "mask.sum()"
   ]
  },
  {
   "cell_type": "code",
   "execution_count": 12,
   "metadata": {},
   "outputs": [
    {
     "data": {
      "text/plain": [
       "51"
      ]
     },
     "execution_count": 12,
     "metadata": {},
     "output_type": "execute_result"
    }
   ],
   "source": [
    "mask = df[\"city\"].str.contains(\"Macquarie\") & df[\"country\"].str.contains(\"of\")\n",
    "\n",
    "df.loc[mask, \"country\"] = \"Macquarie Island\"\n",
    "\n",
    "mask.sum()"
   ]
  },
  {
   "cell_type": "code",
   "execution_count": 13,
   "metadata": {},
   "outputs": [
    {
     "data": {
      "text/plain": [
       "35"
      ]
     },
     "execution_count": 13,
     "metadata": {},
     "output_type": "execute_result"
    }
   ],
   "source": [
    "mask = df[\"city\"].str.contains(\"Ascension\") & df[\"country\"].str.contains(\"of\")\n",
    "\n",
    "df.loc[mask, \"country\"] = \"Ascension Island\"\n",
    "\n",
    "mask.sum()"
   ]
  },
  {
   "cell_type": "code",
   "execution_count": 14,
   "metadata": {},
   "outputs": [
    {
     "data": {
      "text/plain": [
       "40"
      ]
     },
     "execution_count": 14,
     "metadata": {},
     "output_type": "execute_result"
    }
   ],
   "source": [
    "mask = df[\"city\"].str.contains(\"America\") & df[\"country\"].str.contains(\"of\")\n",
    "\n",
    "df.loc[mask, \"country\"] = \"Central America\"\n",
    "\n",
    "mask.sum()"
   ]
  },
  {
   "cell_type": "code",
   "execution_count": 15,
   "metadata": {},
   "outputs": [
    {
     "name": "stdout",
     "output_type": "stream",
     "text": [
      "Taiwan - 3\n",
      "Venezuela - 3\n",
      "Honduras - 1\n",
      "Severnaya Zemlya - 19\n",
      "Greenland - 3\n",
      "Azerbaijan - 1\n",
      "Guatemala - 7\n",
      "Panama - 18\n",
      "Svalbard - 18\n",
      "Ecuador - 13\n",
      "New Zealand - 28\n",
      "Australia - 6\n",
      "Chile - 1\n",
      "Turkey - 1\n",
      "Colombia - 2\n",
      "Myanmar - 1\n",
      "Oman - 1\n",
      "Peru - 12\n",
      "Japan - 2\n",
      "Africa - 34\n",
      "Nicaragua - 8\n",
      "Franz Josef Land - 2\n",
      "Syria - 1\n",
      "Libya - 2\n",
      "Easter Island - 38\n"
     ]
    }
   ],
   "source": [
    "to_change = [\"Taiwan\", \"Venezuela\", \"Honduras\", \"Severnaya Zemlya\", \"Greenland\", \"Azerbaijan\", \"Guatemala\", \"Panama\", \"Svalbard\", \"Ecuador\", \"New Zealand\", \"Australia\", \"Chile\", \"Turkey\", \"Colombia\", \"Myanmar\", \"Oman\", \"Peru\", \"Japan\", \"Africa\", \"Nicaragua\", \"Franz Josef Land\", \"Syria\", \"Libya\", \"Easter Island\"]\n",
    "\n",
    "for country in to_change:\n",
    "    mask = df[\"country\"].str.contains(country) & df[\"country\"].str.contains(\"of\")\n",
    "\n",
    "    df.loc[mask, \"country\"] = country\n",
    "    print(f\"{country} - {mask.sum()}\")"
   ]
  },
  {
   "cell_type": "code",
   "execution_count": 16,
   "metadata": {},
   "outputs": [
    {
     "data": {
      "text/plain": [
       "0"
      ]
     },
     "execution_count": 16,
     "metadata": {},
     "output_type": "execute_result"
    }
   ],
   "source": [
    "df[\"country\"].isnull().sum()\n",
    "\n"
   ]
  },
  {
   "cell_type": "code",
   "execution_count": 17,
   "metadata": {},
   "outputs": [
    {
     "data": {
      "text/plain": [
       "country\n",
       "USA                         160555\n",
       "Puerto Rico                   6379\n",
       "Indonesia                     2933\n",
       "Japan                         2176\n",
       "Philippines                   1851\n",
       "Fiji                          1533\n",
       "Papua New Guinea              1259\n",
       "Mexico                        1142\n",
       "Tonga                         1126\n",
       "Chile                         1084\n",
       "Canada                         886\n",
       "Vanuatu                        764\n",
       "Russia                         753\n",
       "Northern Mariana Islands       654\n",
       "Turkey                         653\n",
       "South Sandwich Islands         632\n",
       "Kermadec Islands               582\n",
       "China                          553\n",
       "U.S. Virgin Islands            526\n",
       "Argentina                      494\n",
       "Taiwan                         492\n",
       "Reykjanes Ridge                477\n",
       "Peru                           463\n",
       "New Zealand                    435\n",
       "Solomon Islands                420\n",
       "Name: count, dtype: int64"
      ]
     },
     "execution_count": 17,
     "metadata": {},
     "output_type": "execute_result"
    }
   ],
   "source": [
    "df[\"country\"].value_counts().head(25)"
   ]
  },
  {
   "cell_type": "code",
   "execution_count": 18,
   "metadata": {},
   "outputs": [
    {
     "data": {
      "text/plain": [
       "139"
      ]
     },
     "execution_count": 18,
     "metadata": {},
     "output_type": "execute_result"
    }
   ],
   "source": [
    "new_table = \"updated_data\"\n",
    "\n",
    "df.to_sql(new_table, engine, if_exists=\"replace\")"
   ]
  },
  {
   "cell_type": "code",
   "execution_count": 19,
   "metadata": {},
   "outputs": [],
   "source": [
    "engine.dispose()"
   ]
  }
 ],
 "metadata": {
  "kernelspec": {
   "display_name": "Python 3",
   "language": "python",
   "name": "python3"
  },
  "language_info": {
   "codemirror_mode": {
    "name": "ipython",
    "version": 3
   },
   "file_extension": ".py",
   "mimetype": "text/x-python",
   "name": "python",
   "nbconvert_exporter": "python",
   "pygments_lexer": "ipython3",
   "version": "3.10.12"
  }
 },
 "nbformat": 4,
 "nbformat_minor": 2
}

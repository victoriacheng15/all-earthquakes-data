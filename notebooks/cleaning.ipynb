{
 "cells": [
  {
   "cell_type": "markdown",
   "metadata": {},
   "source": [
    "# Cleaning Earthquakes Raw Data"
   ]
  },
  {
   "cell_type": "code",
   "execution_count": 1,
   "metadata": {},
   "outputs": [],
   "source": [
    "import os\n",
    "import pandas as pd\n",
    "from sqlalchemy import create_engine\n",
    "\n",
    "POSTGRES_USER = os.environ.get(\"POSTGRES_USER\")\n",
    "POSTGRES_PASSWORD = os.environ.get(\"POSTGRES_PASSWORD\")\n",
    "POSTGRES_DB = os.environ.get(\"POSTGRES_DB\")\n",
    "POSTGRES_HOST = os.environ.get(\"POSTGRES_HOST\")\n",
    "POSTGRES_PORT = os.environ.get(\"POSTGRES_PORT\")\n",
    "\n",
    "conn = f\"postgresql://{POSTGRES_USER}:{POSTGRES_PASSWORD}@{POSTGRES_HOST}:{POSTGRES_PORT}/{POSTGRES_DB}\"\n",
    "engine = create_engine(conn)"
   ]
  },
  {
   "cell_type": "code",
   "execution_count": 22,
   "metadata": {},
   "outputs": [],
   "source": [
    "query = \"select * from raw_data;\"\n",
    "\n",
    "df = pd.read_sql_query(query, conn)\n"
   ]
  },
  {
   "cell_type": "code",
   "execution_count": 23,
   "metadata": {},
   "outputs": [],
   "source": [
    "df.drop(columns=[\"code\",\"event_id\",\"url\", \"details\"], axis=1, inplace=True)\n"
   ]
  },
  {
   "cell_type": "code",
   "execution_count": 24,
   "metadata": {},
   "outputs": [],
   "source": [
    "df.set_index(\"id\", inplace=True)"
   ]
  },
  {
   "cell_type": "code",
   "execution_count": 25,
   "metadata": {},
   "outputs": [
    {
     "data": {
      "text/html": [
       "<div>\n",
       "<style scoped>\n",
       "    .dataframe tbody tr th:only-of-type {\n",
       "        vertical-align: middle;\n",
       "    }\n",
       "\n",
       "    .dataframe tbody tr th {\n",
       "        vertical-align: top;\n",
       "    }\n",
       "\n",
       "    .dataframe thead th {\n",
       "        text-align: right;\n",
       "    }\n",
       "</style>\n",
       "<table border=\"1\" class=\"dataframe\">\n",
       "  <thead>\n",
       "    <tr style=\"text-align: right;\">\n",
       "      <th></th>\n",
       "      <th>place</th>\n",
       "      <th>city</th>\n",
       "      <th>country</th>\n",
       "      <th>magnitude</th>\n",
       "      <th>latitude</th>\n",
       "      <th>longitude</th>\n",
       "      <th>depth</th>\n",
       "      <th>utc_time</th>\n",
       "    </tr>\n",
       "    <tr>\n",
       "      <th>id</th>\n",
       "      <th></th>\n",
       "      <th></th>\n",
       "      <th></th>\n",
       "      <th></th>\n",
       "      <th></th>\n",
       "      <th></th>\n",
       "      <th></th>\n",
       "      <th></th>\n",
       "    </tr>\n",
       "  </thead>\n",
       "  <tbody>\n",
       "    <tr>\n",
       "      <th>1</th>\n",
       "      <td>14 km NNE of Virginia City, Nevada</td>\n",
       "      <td>Virginia City, Nevada</td>\n",
       "      <td>USA</td>\n",
       "      <td>1.0</td>\n",
       "      <td>39.421900</td>\n",
       "      <td>-119.557600</td>\n",
       "      <td>10.80</td>\n",
       "      <td>2024-01-27 11:27:58</td>\n",
       "    </tr>\n",
       "    <tr>\n",
       "      <th>2</th>\n",
       "      <td>45 km NW of Toyah, Texas</td>\n",
       "      <td>Toyah, Texas</td>\n",
       "      <td>USA</td>\n",
       "      <td>1.9</td>\n",
       "      <td>31.619000</td>\n",
       "      <td>-104.117000</td>\n",
       "      <td>6.08</td>\n",
       "      <td>2024-01-27 11:39:20</td>\n",
       "    </tr>\n",
       "    <tr>\n",
       "      <th>3</th>\n",
       "      <td>54 km NNE of Kobuk, Alaska</td>\n",
       "      <td>Kobuk, Alaska</td>\n",
       "      <td>USA</td>\n",
       "      <td>1.5</td>\n",
       "      <td>67.322500</td>\n",
       "      <td>-156.238600</td>\n",
       "      <td>4.40</td>\n",
       "      <td>2024-01-27 11:44:12</td>\n",
       "    </tr>\n",
       "    <tr>\n",
       "      <th>4</th>\n",
       "      <td>279 km WNW of Houma, Tonga</td>\n",
       "      <td>Houma</td>\n",
       "      <td>Tonga</td>\n",
       "      <td>4.2</td>\n",
       "      <td>-20.158800</td>\n",
       "      <td>-177.761800</td>\n",
       "      <td>486.33</td>\n",
       "      <td>2024-01-27 11:50:11</td>\n",
       "    </tr>\n",
       "    <tr>\n",
       "      <th>5</th>\n",
       "      <td>4 km SSW of Salcha, Alaska</td>\n",
       "      <td>Salcha, Alaska</td>\n",
       "      <td>USA</td>\n",
       "      <td>2.4</td>\n",
       "      <td>64.482800</td>\n",
       "      <td>-146.941300</td>\n",
       "      <td>8.50</td>\n",
       "      <td>2024-01-27 11:50:33</td>\n",
       "    </tr>\n",
       "    <tr>\n",
       "      <th>...</th>\n",
       "      <td>...</td>\n",
       "      <td>...</td>\n",
       "      <td>...</td>\n",
       "      <td>...</td>\n",
       "      <td>...</td>\n",
       "      <td>...</td>\n",
       "      <td>...</td>\n",
       "      <td>...</td>\n",
       "    </tr>\n",
       "    <tr>\n",
       "      <th>182031</th>\n",
       "      <td>225 km W of Adak, Alaska</td>\n",
       "      <td>Adak, Alaska</td>\n",
       "      <td>USA</td>\n",
       "      <td>2.5</td>\n",
       "      <td>51.806667</td>\n",
       "      <td>-179.910333</td>\n",
       "      <td>15.64</td>\n",
       "      <td>2024-05-11 23:49:38</td>\n",
       "    </tr>\n",
       "    <tr>\n",
       "      <th>182032</th>\n",
       "      <td>78 km W of Adak, Alaska</td>\n",
       "      <td>Adak, Alaska</td>\n",
       "      <td>USA</td>\n",
       "      <td>1.6</td>\n",
       "      <td>51.850500</td>\n",
       "      <td>-177.776167</td>\n",
       "      <td>3.17</td>\n",
       "      <td>2024-05-11 23:00:31</td>\n",
       "    </tr>\n",
       "    <tr>\n",
       "      <th>182033</th>\n",
       "      <td>87 km NW of Karluk, Alaska</td>\n",
       "      <td>Karluk, Alaska</td>\n",
       "      <td>USA</td>\n",
       "      <td>1.0</td>\n",
       "      <td>58.177000</td>\n",
       "      <td>-155.392333</td>\n",
       "      <td>3.99</td>\n",
       "      <td>2024-05-11 19:05:53</td>\n",
       "    </tr>\n",
       "    <tr>\n",
       "      <th>182034</th>\n",
       "      <td>58 km WSW of Adak, Alaska</td>\n",
       "      <td>Adak, Alaska</td>\n",
       "      <td>USA</td>\n",
       "      <td>1.1</td>\n",
       "      <td>51.732667</td>\n",
       "      <td>-177.449833</td>\n",
       "      <td>11.97</td>\n",
       "      <td>2024-05-11 18:44:00</td>\n",
       "    </tr>\n",
       "    <tr>\n",
       "      <th>182035</th>\n",
       "      <td>17 km WSW of Lixoúri, Greece</td>\n",
       "      <td>Lixoúri</td>\n",
       "      <td>Greece</td>\n",
       "      <td>4.2</td>\n",
       "      <td>38.127300</td>\n",
       "      <td>20.266300</td>\n",
       "      <td>42.29</td>\n",
       "      <td>2024-05-10 10:48:35</td>\n",
       "    </tr>\n",
       "  </tbody>\n",
       "</table>\n",
       "<p>182035 rows × 8 columns</p>\n",
       "</div>"
      ],
      "text/plain": [
       "                                     place                   city country  \\\n",
       "id                                                                          \n",
       "1       14 km NNE of Virginia City, Nevada  Virginia City, Nevada     USA   \n",
       "2                 45 km NW of Toyah, Texas           Toyah, Texas     USA   \n",
       "3               54 km NNE of Kobuk, Alaska          Kobuk, Alaska     USA   \n",
       "4               279 km WNW of Houma, Tonga                  Houma   Tonga   \n",
       "5               4 km SSW of Salcha, Alaska         Salcha, Alaska     USA   \n",
       "...                                    ...                    ...     ...   \n",
       "182031            225 km W of Adak, Alaska           Adak, Alaska     USA   \n",
       "182032             78 km W of Adak, Alaska           Adak, Alaska     USA   \n",
       "182033          87 km NW of Karluk, Alaska         Karluk, Alaska     USA   \n",
       "182034           58 km WSW of Adak, Alaska           Adak, Alaska     USA   \n",
       "182035        17 km WSW of Lixoúri, Greece                Lixoúri  Greece   \n",
       "\n",
       "        magnitude   latitude   longitude   depth            utc_time  \n",
       "id                                                                    \n",
       "1             1.0  39.421900 -119.557600   10.80 2024-01-27 11:27:58  \n",
       "2             1.9  31.619000 -104.117000    6.08 2024-01-27 11:39:20  \n",
       "3             1.5  67.322500 -156.238600    4.40 2024-01-27 11:44:12  \n",
       "4             4.2 -20.158800 -177.761800  486.33 2024-01-27 11:50:11  \n",
       "5             2.4  64.482800 -146.941300    8.50 2024-01-27 11:50:33  \n",
       "...           ...        ...         ...     ...                 ...  \n",
       "182031        2.5  51.806667 -179.910333   15.64 2024-05-11 23:49:38  \n",
       "182032        1.6  51.850500 -177.776167    3.17 2024-05-11 23:00:31  \n",
       "182033        1.0  58.177000 -155.392333    3.99 2024-05-11 19:05:53  \n",
       "182034        1.1  51.732667 -177.449833   11.97 2024-05-11 18:44:00  \n",
       "182035        4.2  38.127300   20.266300   42.29 2024-05-10 10:48:35  \n",
       "\n",
       "[182035 rows x 8 columns]"
      ]
     },
     "execution_count": 25,
     "metadata": {},
     "output_type": "execute_result"
    }
   ],
   "source": [
    "df"
   ]
  },
  {
   "cell_type": "markdown",
   "metadata": {},
   "source": [
    "## Remove region text from country"
   ]
  },
  {
   "cell_type": "code",
   "execution_count": 26,
   "metadata": {},
   "outputs": [
    {
     "data": {
      "text/plain": [
       "0"
      ]
     },
     "execution_count": 26,
     "metadata": {},
     "output_type": "execute_result"
    }
   ],
   "source": [
    "df[\"country\"].str.contains(\"region\")\n",
    "\n",
    "df[\"country\"] = df[\"country\"].str.replace(\"region\", \"\").str.strip()\n",
    "\n",
    "df[\"country\"].str.contains(\"region\").sum()\n"
   ]
  },
  {
   "cell_type": "code",
   "execution_count": 27,
   "metadata": {},
   "outputs": [],
   "source": [
    "df[\"country\"].str.contains(\"of\").sum()\n",
    "\n",
    "pattern = r'north|south|east|west'\n",
    "\n",
    "mask = df[\"country\"].str.contains(pattern)\n",
    "mask &= df[\"country\"].str.contains(\"Islands\")\n",
    "\n",
    "df.loc[mask, \"country\"] = df.loc[mask, \"country\"].str.split().str[-2:].str.join(\" \")\n"
   ]
  },
  {
   "cell_type": "code",
   "execution_count": 28,
   "metadata": {},
   "outputs": [],
   "source": [
    "mask = df[\"place\"].str.contains(\"Fiji\") & df[\"country\"].isnull()\n",
    "df.loc[mask, \"country\"] = \"Fiji\""
   ]
  },
  {
   "cell_type": "code",
   "execution_count": 29,
   "metadata": {},
   "outputs": [
    {
     "data": {
      "text/plain": [
       "610"
      ]
     },
     "execution_count": 29,
     "metadata": {},
     "output_type": "execute_result"
    }
   ],
   "source": [
    "mask = df[\"place\"].str.contains(\"Fiji\") & df[\"country\"].str.contains(\"Islands\")\n",
    "\n",
    "df.loc[mask, \"country\"] = \"Fiji\"\n",
    "\n",
    "mask.sum()"
   ]
  },
  {
   "cell_type": "code",
   "execution_count": 30,
   "metadata": {},
   "outputs": [
    {
     "data": {
      "text/plain": [
       "51"
      ]
     },
     "execution_count": 30,
     "metadata": {},
     "output_type": "execute_result"
    }
   ],
   "source": [
    "mask = df[\"country\"].str.contains(\"Tonga\") & df[\"country\"].str.contains(\"of\")\n",
    "\n",
    "df.loc[mask, \"country\"] = \"Tonga\"\n",
    "\n",
    "mask.sum()"
   ]
  },
  {
   "cell_type": "code",
   "execution_count": 31,
   "metadata": {},
   "outputs": [
    {
     "data": {
      "text/plain": [
       "3894"
      ]
     },
     "execution_count": 31,
     "metadata": {},
     "output_type": "execute_result"
    }
   ],
   "source": [
    "mask = df[\"country\"].str.contains(\"Alaska\") | df[\"country\"].str.contains(\"Texas\") | df[\"country\"].str.contains(\"California\")\n",
    "\n",
    "df.loc[mask, \"country\"] = \"USA\"\n",
    "\n",
    "mask.sum()"
   ]
  },
  {
   "cell_type": "code",
   "execution_count": 32,
   "metadata": {},
   "outputs": [
    {
     "data": {
      "text/plain": [
       "51"
      ]
     },
     "execution_count": 32,
     "metadata": {},
     "output_type": "execute_result"
    }
   ],
   "source": [
    "mask = df[\"city\"].str.contains(\"Macquarie\") & df[\"country\"].str.contains(\"of\")\n",
    "\n",
    "df.loc[mask, \"country\"] = \"Macquarie Island\"\n",
    "\n",
    "mask.sum()"
   ]
  },
  {
   "cell_type": "code",
   "execution_count": 33,
   "metadata": {},
   "outputs": [
    {
     "data": {
      "text/plain": [
       "35"
      ]
     },
     "execution_count": 33,
     "metadata": {},
     "output_type": "execute_result"
    }
   ],
   "source": [
    "mask = df[\"city\"].str.contains(\"Ascension\") & df[\"country\"].str.contains(\"of\")\n",
    "\n",
    "df.loc[mask, \"country\"] = \"Ascension Island\"\n",
    "\n",
    "mask.sum()"
   ]
  },
  {
   "cell_type": "code",
   "execution_count": 34,
   "metadata": {},
   "outputs": [
    {
     "data": {
      "text/plain": [
       "40"
      ]
     },
     "execution_count": 34,
     "metadata": {},
     "output_type": "execute_result"
    }
   ],
   "source": [
    "mask = df[\"city\"].str.contains(\"America\") & df[\"country\"].str.contains(\"of\")\n",
    "\n",
    "df.loc[mask, \"country\"] = \"Central America\"\n",
    "\n",
    "mask.sum()"
   ]
  },
  {
   "cell_type": "code",
   "execution_count": 35,
   "metadata": {},
   "outputs": [
    {
     "name": "stdout",
     "output_type": "stream",
     "text": [
      "Taiwan - 3\n",
      "Venezuela - 3\n",
      "Honduras - 1\n",
      "Severnaya Zemlya - 19\n",
      "Greenland - 3\n",
      "Azerbaijan - 1\n",
      "Guatemala - 7\n",
      "Panama - 18\n",
      "Svalbard - 18\n",
      "Ecuador - 13\n",
      "New Zealand - 28\n",
      "Australia - 6\n",
      "Chile - 1\n",
      "Turkey - 1\n",
      "Colombia - 2\n",
      "Myanmar - 1\n",
      "Oman - 1\n",
      "Peru - 12\n",
      "Japan - 2\n",
      "Africa - 34\n",
      "Nicaragua - 8\n",
      "Franz Josef Land - 2\n",
      "Syria - 1\n",
      "Libya - 2\n",
      "Easter Island - 38\n"
     ]
    }
   ],
   "source": [
    "to_change = [\"Taiwan\", \"Venezuela\", \"Honduras\", \"Severnaya Zemlya\", \"Greenland\", \"Azerbaijan\", \"Guatemala\", \"Panama\", \"Svalbard\", \"Ecuador\", \"New Zealand\", \"Australia\", \"Chile\", \"Turkey\", \"Colombia\", \"Myanmar\", \"Oman\", \"Peru\", \"Japan\", \"Africa\", \"Nicaragua\", \"Franz Josef Land\", \"Syria\", \"Libya\", \"Easter Island\"]\n",
    "\n",
    "for country in to_change:\n",
    "    mask = df[\"country\"].str.contains(country) & df[\"country\"].str.contains(\"of\")\n",
    "\n",
    "    df.loc[mask, \"country\"] = country\n",
    "    print(f\"{country} - {mask.sum()}\")"
   ]
  },
  {
   "cell_type": "code",
   "execution_count": 36,
   "metadata": {},
   "outputs": [
    {
     "data": {
      "text/plain": [
       "0"
      ]
     },
     "execution_count": 36,
     "metadata": {},
     "output_type": "execute_result"
    }
   ],
   "source": [
    "df[\"country\"].isnull().sum()\n",
    "\n"
   ]
  },
  {
   "cell_type": "code",
   "execution_count": 37,
   "metadata": {},
   "outputs": [
    {
     "data": {
      "text/plain": [
       "country\n",
       "USA                         146560\n",
       "Puerto Rico                   5972\n",
       "Indonesia                     2787\n",
       "Japan                         2057\n",
       "Philippines                   1794\n",
       "Fiji                          1473\n",
       "Papua New Guinea              1193\n",
       "Mexico                        1100\n",
       "Tonga                         1078\n",
       "Chile                          984\n",
       "Canada                         813\n",
       "Vanuatu                        730\n",
       "Russia                         702\n",
       "Northern Mariana Islands       643\n",
       "Turkey                         638\n",
       "South Sandwich Islands         612\n",
       "Kermadec Islands               572\n",
       "China                          517\n",
       "U.S. Virgin Islands            501\n",
       "Reykjanes Ridge                476\n",
       "Taiwan                         460\n",
       "Argentina                      454\n",
       "New Zealand                    416\n",
       "Peru                           413\n",
       "Solomon Islands                409\n",
       "Name: count, dtype: int64"
      ]
     },
     "execution_count": 37,
     "metadata": {},
     "output_type": "execute_result"
    }
   ],
   "source": [
    "df[\"country\"].value_counts().head(25)"
   ]
  },
  {
   "cell_type": "code",
   "execution_count": 38,
   "metadata": {},
   "outputs": [
    {
     "data": {
      "text/plain": [
       "35"
      ]
     },
     "execution_count": 38,
     "metadata": {},
     "output_type": "execute_result"
    }
   ],
   "source": [
    "new_table = \"updated_data\"\n",
    "\n",
    "df.to_sql(new_table, engine, if_exists=\"replace\")"
   ]
  },
  {
   "cell_type": "code",
   "execution_count": 39,
   "metadata": {},
   "outputs": [],
   "source": [
    "engine.dispose()"
   ]
  }
 ],
 "metadata": {
  "kernelspec": {
   "display_name": "Python 3",
   "language": "python",
   "name": "python3"
  },
  "language_info": {
   "codemirror_mode": {
    "name": "ipython",
    "version": 3
   },
   "file_extension": ".py",
   "mimetype": "text/x-python",
   "name": "python",
   "nbconvert_exporter": "python",
   "pygments_lexer": "ipython3",
   "version": "3.10.12"
  }
 },
 "nbformat": 4,
 "nbformat_minor": 2
}

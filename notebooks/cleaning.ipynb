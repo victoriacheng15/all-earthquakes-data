{
 "cells": [
  {
   "cell_type": "markdown",
   "metadata": {},
   "source": [
    "# Cleaning Earthquakes Raw Data"
   ]
  },
  {
   "cell_type": "code",
   "execution_count": 231,
   "metadata": {},
   "outputs": [],
   "source": [
    "import os\n",
    "import pandas as pd\n",
    "from sqlalchemy import create_engine\n",
    "\n",
    "POSTGRES_USER = os.environ.get(\"POSTGRES_USER\")\n",
    "POSTGRES_PASSWORD = os.environ.get(\"POSTGRES_PASSWORD\")\n",
    "POSTGRES_DB = os.environ.get(\"POSTGRES_DB\")\n",
    "POSTGRES_HOST = os.environ.get(\"POSTGRES_HOST\")\n",
    "POSTGRES_PORT = os.environ.get(\"POSTGRES_PORT\")\n",
    "\n",
    "conn = f\"postgresql://{POSTGRES_USER}:{POSTGRES_PASSWORD}@{POSTGRES_HOST}:{POSTGRES_PORT}/{POSTGRES_DB}\"\n",
    "engine = create_engine(conn)"
   ]
  },
  {
   "cell_type": "code",
   "execution_count": 232,
   "metadata": {},
   "outputs": [
    {
     "data": {
      "text/html": [
       "<div>\n",
       "<style scoped>\n",
       "    .dataframe tbody tr th:only-of-type {\n",
       "        vertical-align: middle;\n",
       "    }\n",
       "\n",
       "    .dataframe tbody tr th {\n",
       "        vertical-align: top;\n",
       "    }\n",
       "\n",
       "    .dataframe thead th {\n",
       "        text-align: right;\n",
       "    }\n",
       "</style>\n",
       "<table border=\"1\" class=\"dataframe\">\n",
       "  <thead>\n",
       "    <tr style=\"text-align: right;\">\n",
       "      <th></th>\n",
       "      <th>id</th>\n",
       "      <th>magnitude</th>\n",
       "      <th>latitude</th>\n",
       "      <th>longitude</th>\n",
       "      <th>depth</th>\n",
       "      <th>utc_time</th>\n",
       "    </tr>\n",
       "  </thead>\n",
       "  <tbody>\n",
       "    <tr>\n",
       "      <th>count</th>\n",
       "      <td>179623.000000</td>\n",
       "      <td>179623.000000</td>\n",
       "      <td>179623.000000</td>\n",
       "      <td>179623.000000</td>\n",
       "      <td>179623.000000</td>\n",
       "      <td>179623</td>\n",
       "    </tr>\n",
       "    <tr>\n",
       "      <th>mean</th>\n",
       "      <td>89812.000000</td>\n",
       "      <td>2.154777</td>\n",
       "      <td>39.229089</td>\n",
       "      <td>-107.433612</td>\n",
       "      <td>34.049668</td>\n",
       "      <td>2023-06-11 01:20:42.432082688</td>\n",
       "    </tr>\n",
       "    <tr>\n",
       "      <th>min</th>\n",
       "      <td>1.000000</td>\n",
       "      <td>1.000000</td>\n",
       "      <td>-65.849700</td>\n",
       "      <td>-179.998700</td>\n",
       "      <td>-3.740000</td>\n",
       "      <td>2022-08-07 01:56:38</td>\n",
       "    </tr>\n",
       "    <tr>\n",
       "      <th>25%</th>\n",
       "      <td>44906.500000</td>\n",
       "      <td>1.300000</td>\n",
       "      <td>31.618324</td>\n",
       "      <td>-153.203800</td>\n",
       "      <td>5.510000</td>\n",
       "      <td>2023-01-02 06:06:59.500000</td>\n",
       "    </tr>\n",
       "    <tr>\n",
       "      <th>50%</th>\n",
       "      <td>89812.000000</td>\n",
       "      <td>1.800000</td>\n",
       "      <td>39.156333</td>\n",
       "      <td>-137.634000</td>\n",
       "      <td>10.000000</td>\n",
       "      <td>2023-06-03 14:35:37</td>\n",
       "    </tr>\n",
       "    <tr>\n",
       "      <th>75%</th>\n",
       "      <td>134717.500000</td>\n",
       "      <td>2.500000</td>\n",
       "      <td>59.790700</td>\n",
       "      <td>-110.293167</td>\n",
       "      <td>35.000000</td>\n",
       "      <td>2023-11-14 22:18:08</td>\n",
       "    </tr>\n",
       "    <tr>\n",
       "      <th>max</th>\n",
       "      <td>179623.000000</td>\n",
       "      <td>7.800000</td>\n",
       "      <td>86.593900</td>\n",
       "      <td>179.999400</td>\n",
       "      <td>681.240000</td>\n",
       "      <td>2024-05-02 19:18:10</td>\n",
       "    </tr>\n",
       "    <tr>\n",
       "      <th>std</th>\n",
       "      <td>51852.838039</td>\n",
       "      <td>1.138359</td>\n",
       "      <td>23.113004</td>\n",
       "      <td>84.495356</td>\n",
       "      <td>65.746675</td>\n",
       "      <td>NaN</td>\n",
       "    </tr>\n",
       "  </tbody>\n",
       "</table>\n",
       "</div>"
      ],
      "text/plain": [
       "                  id      magnitude       latitude      longitude  \\\n",
       "count  179623.000000  179623.000000  179623.000000  179623.000000   \n",
       "mean    89812.000000       2.154777      39.229089    -107.433612   \n",
       "min         1.000000       1.000000     -65.849700    -179.998700   \n",
       "25%     44906.500000       1.300000      31.618324    -153.203800   \n",
       "50%     89812.000000       1.800000      39.156333    -137.634000   \n",
       "75%    134717.500000       2.500000      59.790700    -110.293167   \n",
       "max    179623.000000       7.800000      86.593900     179.999400   \n",
       "std     51852.838039       1.138359      23.113004      84.495356   \n",
       "\n",
       "               depth                       utc_time  \n",
       "count  179623.000000                         179623  \n",
       "mean       34.049668  2023-06-11 01:20:42.432082688  \n",
       "min        -3.740000            2022-08-07 01:56:38  \n",
       "25%         5.510000     2023-01-02 06:06:59.500000  \n",
       "50%        10.000000            2023-06-03 14:35:37  \n",
       "75%        35.000000            2023-11-14 22:18:08  \n",
       "max       681.240000            2024-05-02 19:18:10  \n",
       "std        65.746675                            NaN  "
      ]
     },
     "execution_count": 232,
     "metadata": {},
     "output_type": "execute_result"
    }
   ],
   "source": [
    "query = \"select * from raw_data;\"\n",
    "\n",
    "df = pd.read_sql_query(query, conn)\n",
    "\n",
    "df.describe()"
   ]
  },
  {
   "cell_type": "markdown",
   "metadata": {},
   "source": [
    "## Remove region text from country"
   ]
  },
  {
   "cell_type": "code",
   "execution_count": 233,
   "metadata": {},
   "outputs": [
    {
     "data": {
      "text/plain": [
       "0"
      ]
     },
     "execution_count": 233,
     "metadata": {},
     "output_type": "execute_result"
    }
   ],
   "source": [
    "df[\"country\"].str.contains(\"region\")\n",
    "\n",
    "df[\"country\"] = df[\"country\"].str.replace(\"region\", \"\").str.strip()\n",
    "\n",
    "df[\"country\"].str.contains(\"region\").sum()\n"
   ]
  },
  {
   "cell_type": "code",
   "execution_count": 234,
   "metadata": {},
   "outputs": [],
   "source": [
    "df[\"country\"].str.contains(\"of\").sum()\n",
    "\n",
    "pattern = r'north|south|east|west'\n",
    "\n",
    "mask = df[\"country\"].str.contains(pattern)\n",
    "mask &= df[\"country\"].str.contains(\"Islands\")\n",
    "\n",
    "df.loc[mask, \"country\"] = df.loc[mask, \"country\"].str.split().str[-2:].str.join(\" \")\n"
   ]
  },
  {
   "cell_type": "code",
   "execution_count": 235,
   "metadata": {},
   "outputs": [],
   "source": [
    "mask = df[\"place\"].str.contains(\"Fiji\") & df[\"country\"].isnull()\n",
    "df.loc[mask, \"country\"] = \"Fiji\""
   ]
  },
  {
   "cell_type": "code",
   "execution_count": 236,
   "metadata": {},
   "outputs": [
    {
     "data": {
      "text/plain": [
       "608"
      ]
     },
     "execution_count": 236,
     "metadata": {},
     "output_type": "execute_result"
    }
   ],
   "source": [
    "mask = df[\"place\"].str.contains(\"Fiji\") & df[\"country\"].str.contains(\"Islands\")\n",
    "\n",
    "df.loc[mask, \"country\"] = \"Fiji\"\n",
    "\n",
    "mask.sum()"
   ]
  },
  {
   "cell_type": "code",
   "execution_count": 237,
   "metadata": {},
   "outputs": [
    {
     "data": {
      "text/plain": [
       "51"
      ]
     },
     "execution_count": 237,
     "metadata": {},
     "output_type": "execute_result"
    }
   ],
   "source": [
    "mask = df[\"country\"].str.contains(\"Tonga\") & df[\"country\"].str.contains(\"of\")\n",
    "\n",
    "df.loc[mask, \"country\"] = \"Tonga\"\n",
    "\n",
    "mask.sum()"
   ]
  },
  {
   "cell_type": "code",
   "execution_count": 238,
   "metadata": {},
   "outputs": [
    {
     "data": {
      "text/plain": [
       "3894"
      ]
     },
     "execution_count": 238,
     "metadata": {},
     "output_type": "execute_result"
    }
   ],
   "source": [
    "mask = df[\"country\"].str.contains(\"Alaska\") | df[\"country\"].str.contains(\"Texas\") | df[\"country\"].str.contains(\"California\")\n",
    "\n",
    "df.loc[mask, \"country\"] = \"USA\"\n",
    "\n",
    "mask.sum()"
   ]
  },
  {
   "cell_type": "code",
   "execution_count": 239,
   "metadata": {},
   "outputs": [
    {
     "data": {
      "text/plain": [
       "51"
      ]
     },
     "execution_count": 239,
     "metadata": {},
     "output_type": "execute_result"
    }
   ],
   "source": [
    "mask = df[\"city\"].str.contains(\"Macquarie\") & df[\"country\"].str.contains(\"of\")\n",
    "\n",
    "df.loc[mask, \"country\"] = \"Macquarie Island\"\n",
    "\n",
    "mask.sum()"
   ]
  },
  {
   "cell_type": "code",
   "execution_count": 240,
   "metadata": {},
   "outputs": [
    {
     "data": {
      "text/plain": [
       "35"
      ]
     },
     "execution_count": 240,
     "metadata": {},
     "output_type": "execute_result"
    }
   ],
   "source": [
    "mask = df[\"city\"].str.contains(\"Ascension\") & df[\"country\"].str.contains(\"of\")\n",
    "\n",
    "df.loc[mask, \"country\"] = \"Ascension Island\"\n",
    "\n",
    "mask.sum()"
   ]
  },
  {
   "cell_type": "code",
   "execution_count": 241,
   "metadata": {},
   "outputs": [
    {
     "data": {
      "text/plain": [
       "40"
      ]
     },
     "execution_count": 241,
     "metadata": {},
     "output_type": "execute_result"
    }
   ],
   "source": [
    "mask = df[\"city\"].str.contains(\"America\") & df[\"country\"].str.contains(\"of\")\n",
    "\n",
    "df.loc[mask, \"country\"] = \"Central America\"\n",
    "\n",
    "mask.sum()"
   ]
  },
  {
   "cell_type": "code",
   "execution_count": 242,
   "metadata": {},
   "outputs": [
    {
     "name": "stdout",
     "output_type": "stream",
     "text": [
      "Taiwan - 3\n",
      "Venezuela - 3\n",
      "Honduras - 1\n",
      "Severnaya Zemlya - 19\n",
      "Greenland - 3\n",
      "Azerbaijan - 1\n",
      "Guatemala - 7\n",
      "Panama - 18\n",
      "Svalbard - 18\n",
      "Ecuador - 13\n",
      "New Zealand - 28\n",
      "Australia - 6\n",
      "Chile - 1\n",
      "Turkey - 1\n",
      "Colombia - 2\n",
      "Myanmar - 1\n",
      "Oman - 1\n",
      "Peru - 12\n",
      "Japan - 2\n",
      "Africa - 34\n",
      "Nicaragua - 8\n",
      "Franz Josef Land - 2\n",
      "Syria - 1\n",
      "Libya - 2\n",
      "Easter Island - 38\n"
     ]
    }
   ],
   "source": [
    "to_change = [\"Taiwan\", \"Venezuela\", \"Honduras\", \"Severnaya Zemlya\", \"Greenland\", \"Azerbaijan\", \"Guatemala\", \"Panama\", \"Svalbard\", \"Ecuador\", \"New Zealand\", \"Australia\", \"Chile\", \"Turkey\", \"Colombia\", \"Myanmar\", \"Oman\", \"Peru\", \"Japan\", \"Africa\", \"Nicaragua\", \"Franz Josef Land\", \"Syria\", \"Libya\", \"Easter Island\"]\n",
    "\n",
    "for country in to_change:\n",
    "    mask = df[\"country\"].str.contains(country) & df[\"country\"].str.contains(\"of\")\n",
    "\n",
    "    df.loc[mask, \"country\"] = country\n",
    "    print(f\"{country} - {mask.sum()}\")"
   ]
  },
  {
   "cell_type": "code",
   "execution_count": 243,
   "metadata": {},
   "outputs": [
    {
     "data": {
      "text/plain": [
       "0"
      ]
     },
     "execution_count": 243,
     "metadata": {},
     "output_type": "execute_result"
    }
   ],
   "source": [
    "df[\"country\"].isnull().sum()\n",
    "\n"
   ]
  },
  {
   "cell_type": "code",
   "execution_count": 244,
   "metadata": {},
   "outputs": [
    {
     "data": {
      "text/plain": [
       "country\n",
       "USA                         144510\n",
       "Puerto Rico                   5921\n",
       "Indonesia                     2767\n",
       "Japan                         2044\n",
       "Philippines                   1784\n",
       "Fiji                          1469\n",
       "Papua New Guinea              1181\n",
       "Mexico                        1093\n",
       "Tonga                         1070\n",
       "Chile                          972\n",
       "Canada                         808\n",
       "Vanuatu                        716\n",
       "Russia                         696\n",
       "Northern Mariana Islands       642\n",
       "Turkey                         638\n",
       "South Sandwich Islands         607\n",
       "Kermadec Islands               567\n",
       "China                          517\n",
       "U.S. Virgin Islands            495\n",
       "Reykjanes Ridge                476\n",
       "Argentina                      450\n",
       "Taiwan                         448\n",
       "New Zealand                    412\n",
       "Solomon Islands                407\n",
       "Peru                           403\n",
       "Name: count, dtype: int64"
      ]
     },
     "execution_count": 244,
     "metadata": {},
     "output_type": "execute_result"
    }
   ],
   "source": [
    "df[\"country\"].value_counts().head(25)"
   ]
  },
  {
   "cell_type": "code",
   "execution_count": 245,
   "metadata": {},
   "outputs": [
    {
     "data": {
      "text/plain": [
       "623"
      ]
     },
     "execution_count": 245,
     "metadata": {},
     "output_type": "execute_result"
    }
   ],
   "source": [
    "new_table = \"updated_data\"\n",
    "\n",
    "df.to_sql(new_table, engine, if_exists=\"replace\")"
   ]
  },
  {
   "cell_type": "code",
   "execution_count": 246,
   "metadata": {},
   "outputs": [],
   "source": [
    "engine.dispose()"
   ]
  }
 ],
 "metadata": {
  "kernelspec": {
   "display_name": "Python 3",
   "language": "python",
   "name": "python3"
  },
  "language_info": {
   "codemirror_mode": {
    "name": "ipython",
    "version": 3
   },
   "file_extension": ".py",
   "mimetype": "text/x-python",
   "name": "python",
   "nbconvert_exporter": "python",
   "pygments_lexer": "ipython3",
   "version": "3.10.12"
  }
 },
 "nbformat": 4,
 "nbformat_minor": 2
}
